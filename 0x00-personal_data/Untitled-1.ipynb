{
 "cells": [
  {
   "cell_type": "code",
   "execution_count": 4,
   "metadata": {},
   "outputs": [
    {
     "name": "stdout",
     "output_type": "stream",
     "text": [
      "                 name                 email           phone          ssn  \\\n",
      "0        Marlene Wood      hwestiii@att.net  (473) 401-4253  261-72-6780   \n",
      "1     Rhianna Barrera        hampton@me.com  (473) 310-1175  494-07-2341   \n",
      "2        Ruth Trevino    valdez@verizon.net  (731) 915-5892  450-76-5961   \n",
      "3        Kallie Lewis     lushe@hotmail.com  (706) 241-9332  174-40-2889   \n",
      "4             Jake Wu  ramollin@comcast.net  (637) 605-9257  247-52-6862   \n",
      "5   Salvatore Pollard    drezet@hotmail.com  (886) 802-0292  512-74-7870   \n",
      "6        Zackery Ford     jshearer@live.com  (997) 600-9698  579-03-7675   \n",
      "7       Trystan Baker   dkeeler@comcast.net  (804) 777-8345  548-65-0641   \n",
      "8           Davon Gay        geoffr@mac.com  (644) 566-1838  358-18-2062   \n",
      "9         Eliza Burke     satishr@yahoo.com  (212) 237-9866  472-42-0884   \n",
      "10       Belen Bailey       bcevc@yahoo.com  (539) 233-4942  203-38-5395   \n",
      "11       Lilly Stuart         slaff@mac.com  (404) 269-6404  297-98-5726   \n",
      "\n",
      "    password                                       ip           last_login  \\\n",
      "0    K5?BMNv    60ed:c396:2ff:244:bbd0:9208:26f2:93ea  2019-11-14 06:14:24   \n",
      "1   cj22zAH&  6131:10bb:3bcf:6ce5:497c:fdcb:5c7a:dd5d  2019-11-14 06:14:44   \n",
      "2   EwV9tC9#    e501:2103:c25:ab98:394a:494:5da8:731d  2019-11-14 06:15:00   \n",
      "3   %9xwUUpt    630:145e:8acc:d793:5a10:11d8:768:50c0  2019-11-14 06:15:09   \n",
      "4   2>jET?7q  6479:e3ae:d70c:c75b:a029:7b69:cda0:e593  2019-11-14 06:15:17   \n",
      "5   3c~Luj%?  6ccd:834f:c8c9:22e4:b815:ea2c:a350:74c2  2019-11-14 06:15:28   \n",
      "6   S+4DvgmW   a7ab:2c8:4a44:978f:4eec:e64e:53e5:b21b  2019-11-14 06:15:36   \n",
      "7   Dd~Ep5M3  ab22:4193:dd2c:a632:2ca0:f520:3941:fa65  2019-11-14 06:15:57   \n",
      "8   L4D3&5jq  d29c:1b76:cd05:6e7c:1920:959e:66e1:e490  2019-11-14 06:16:04   \n",
      "9   7xM6XD$T  d160:9a44:b8c2:72d1:4c10:1d3c:950b:d060  2019-11-14 06:16:10   \n",
      "10  ^3EZ~TkX  f724:c5d1:a14d:c4c5:bae2:9457:3769:1969  2019-11-14 06:16:19   \n",
      "11  Dc9+NZ>H  e848:e856:4e0b:a056:54ad:1e98:8110:ce1b  2019-11-14 06:16:24   \n",
      "\n",
      "                                           user_agent  \n",
      "0   Mozilla/5.0 (Windows NT 10.0; Win64; x64) Appl...  \n",
      "1   Mozilla/5.0 (Windows NT 6.3; Win64; x64) Apple...  \n",
      "2   Mozilla/5.0 (Linux; Android 8.1.0; motorola on...  \n",
      "3   Mozilla/5.0 (Linux; U; Android 4.1.2; de-de; G...  \n",
      "4   Mozilla/5.0 (Linux; Android 7.0; SM-G570M Buil...  \n",
      "5   Mozilla/5.0 (Windows NT 10.0; WOW64) AppleWebK...  \n",
      "6   Mozilla/5.0 (Windows NT 5.1; rv:36.0) Gecko/20...  \n",
      "7   Mozilla/5.0 (compatible; MSIE 9.0; Windows NT ...  \n",
      "8   Mozilla/5.0 (iPhone; CPU iPhone OS 12_3_2 like...  \n",
      "9   Mozilla/5.0 (Windows NT 10.0; Win64; x64; rv:6...  \n",
      "10  Mozilla/5.0 (Linux; U; Android 4.1.2; de-de; G...  \n",
      "11  Mozilla/5.0 (compatible; MSIE 9.0; Windows NT ...  \n"
     ]
    }
   ],
   "source": [
    "import pandas as pd\n",
    "\n",
    "user = pd.read_csv('user_data.csv')\n",
    "print(user)"
   ]
  }
 ],
 "metadata": {
  "kernelspec": {
   "display_name": "base",
   "language": "python",
   "name": "python3"
  },
  "language_info": {
   "codemirror_mode": {
    "name": "ipython",
    "version": 3
   },
   "file_extension": ".py",
   "mimetype": "text/x-python",
   "name": "python",
   "nbconvert_exporter": "python",
   "pygments_lexer": "ipython3",
   "version": "3.10.9"
  },
  "orig_nbformat": 4
 },
 "nbformat": 4,
 "nbformat_minor": 2
}
